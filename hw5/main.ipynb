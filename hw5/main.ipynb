{
 "cells": [
  {
   "cell_type": "code",
   "execution_count": 1,
   "id": "832d9dd3",
   "metadata": {},
   "outputs": [],
   "source": [
    "from bs4 import BeautifulSoup\n",
    "import networkx as nx\n",
    "import matplotlib.pyplot as plt\n",
    "import os\n",
    "# os.environ[\"PATH\"] += os.pathsep + 'C:/Program Files/Graphviz/bin/'"
   ]
  },
  {
   "cell_type": "code",
   "execution_count": 2,
   "id": "f4f56ce5",
   "metadata": {},
   "outputs": [
    {
     "name": "stdout",
     "output_type": "stream",
     "text": [
      "['Albania', 'Andorra', 'Austria', 'Belarus', 'Belgium', 'Bosnia and Herzegovina', 'Bulgaria', 'Croatia', 'Cyprus', 'Czech Republic', 'Denmark', 'Estonia', 'Finland', 'France', 'Germany', 'Greece', 'Hungary', 'Iceland', 'Ireland', 'Italy', 'Kosovo', 'Latvia', 'Liechtenstein', 'Lithuania', 'Luxembourg', 'North Macedonia', 'Malta', 'Moldova', 'Monaco', 'Montenegro', 'Netherlands', 'Norway', 'Poland', 'Portugal', 'Romania', 'Russia', 'San Marino', 'Serbia', 'Slovakia', 'Slovenia', 'Spain', 'Sweden', 'Switzerland', 'Turkey', 'Ukraine', 'United Kingdom', 'Vatican City']\n"
     ]
    }
   ],
   "source": [
    "countries = []\n",
    "with open(\"countries.html\", \"r\", encoding='utf-8') as f:\n",
    "    \n",
    "    contents = f.read()\n",
    " \n",
    "    soup = BeautifulSoup(contents, 'lxml')\n",
    "    \n",
    "#     for child in soup.tbody.tr.td.recursiveChildGenerator():\n",
    "#             if child.name:\n",
    "#                 print(child.name)\n",
    "    \n",
    "#     print(soup.tbody.tr.td.contents[2])\n",
    "    for tr in soup.tbody.findAll(\"tr\"):\n",
    "        countries.append(tr.td.contents[2].text)\n",
    "print(countries)"
   ]
  },
  {
   "cell_type": "code",
   "execution_count": 21,
   "id": "06cd15f5",
   "metadata": {},
   "outputs": [
    {
     "ename": "TypeError",
     "evalue": "remove() takes exactly one argument (2 given)",
     "output_type": "error",
     "traceback": [
      "\u001b[1;31m---------------------------------------------------------------------------\u001b[0m",
      "\u001b[1;31mTypeError\u001b[0m                                 Traceback (most recent call last)",
      "\u001b[1;32m<ipython-input-21-2cff208b9364>\u001b[0m in \u001b[0;36m<module>\u001b[1;34m\u001b[0m\n\u001b[0;32m     17\u001b[0m                 \u001b[1;32mif\u001b[0m \u001b[0mi\u001b[0m \u001b[1;32min\u001b[0m \u001b[0mcountries\u001b[0m\u001b[1;33m:\u001b[0m\u001b[1;33m\u001b[0m\u001b[1;33m\u001b[0m\u001b[0m\n\u001b[0;32m     18\u001b[0m                     \u001b[0mborders\u001b[0m\u001b[1;33m[\u001b[0m\u001b[0ml\u001b[0m\u001b[1;33m[\u001b[0m\u001b[1;36m0\u001b[0m\u001b[1;33m]\u001b[0m\u001b[1;33m]\u001b[0m\u001b[1;33m.\u001b[0m\u001b[0mappend\u001b[0m\u001b[1;33m(\u001b[0m\u001b[0mi\u001b[0m\u001b[1;33m)\u001b[0m\u001b[1;33m\u001b[0m\u001b[1;33m\u001b[0m\u001b[0m\n\u001b[1;32m---> 19\u001b[1;33m \u001b[0mborders\u001b[0m\u001b[1;33m[\u001b[0m\u001b[1;34m'United Kingdom'\u001b[0m\u001b[1;33m]\u001b[0m\u001b[1;33m.\u001b[0m\u001b[0mremove\u001b[0m\u001b[1;33m(\u001b[0m\u001b[1;34m'Cyprus'\u001b[0m\u001b[1;33m,\u001b[0m \u001b[1;34m'Spain'\u001b[0m\u001b[1;33m)\u001b[0m\u001b[1;33m\u001b[0m\u001b[1;33m\u001b[0m\u001b[0m\n\u001b[0m\u001b[0;32m     20\u001b[0m \u001b[0mprint\u001b[0m\u001b[1;33m(\u001b[0m\u001b[0mborders\u001b[0m\u001b[1;33m[\u001b[0m\u001b[1;34m'United Kingdom'\u001b[0m\u001b[1;33m]\u001b[0m\u001b[1;33m)\u001b[0m\u001b[1;33m\u001b[0m\u001b[1;33m\u001b[0m\u001b[0m\n",
      "\u001b[1;31mTypeError\u001b[0m: remove() takes exactly one argument (2 given)"
     ]
    }
   ],
   "source": [
    "borders = dict()\n",
    "with open(\"borders.html\", \"r\", encoding='utf-8') as f:\n",
    "    \n",
    "    contents = f.read()\n",
    " \n",
    "    soup = BeautifulSoup(contents, 'lxml')\n",
    "    \n",
    "    for tr in soup.tbody.findAll(\"tr\"):\n",
    "        l = []\n",
    "        for a in tr.findAll(\"a\"):\n",
    "            if a.has_attr(\"title\"):\n",
    "                l.append(a.text)\n",
    "#         print(l[0])\n",
    "        if l[0] in countries:\n",
    "            borders[l[0]] = []\n",
    "            for i in l[1:]:\n",
    "                if i in countries:\n",
    "                    borders[l[0]].append(i)\n",
    "borders['United Kingdom'].remove('Cyprus').ipynb_checkpoints.remove('Spain')\n",
    "print(leb(borders))eeeeeeeeeeeeeeeeee"
   ]
  },
  {
   "cell_type": "code",
   "execution_count": 20,
   "id": "0bd22f37",
   "metadata": {},
   "outputs": [
    {
     "name": "stdout",
     "output_type": "stream",
     "text": [
      "['Austria', 'Belgium', 'Czech Republic', 'Denmark', 'France', 'Luxembourg', 'Netherlands', 'Poland', 'Switzerland']\n"
     ]
    }
   ],
   "source": [
    "print(borders['Germany'])"
   ]
  },
  {
   "cell_type": "markdown",
   "id": "6f002f5d",
   "metadata": {},
   "source": [
    "# Эксперименты"
   ]
  },
  {
   "cell_type": "code",
   "execution_count": 60,
   "id": "331af2e1",
   "metadata": {},
   "outputs": [],
   "source": [
    "G = Graph()\n",
    "for country, neighbors in borders.items():\n",
    "    for neighbor in neighbors:\n",
    "        G.edge(country, neighbor)"
   ]
  },
  {
   "cell_type": "code",
   "execution_count": 61,
   "id": "c1ac0341",
   "metadata": {
    "collapsed": true,
    "jupyter": {
     "outputs_hidden": true
    },
    "tags": []
   },
   "outputs": [
    {
     "name": "stdout",
     "output_type": "stream",
     "text": [
      "graph {\n",
      "\tAlbania -- Greece\n",
      "\tAlbania -- Kosovo\n",
      "\tAlbania -- \"North Macedonia\"\n",
      "\tAlbania -- Montenegro\n",
      "\tAndorra -- France\n",
      "\tAndorra -- Spain\n",
      "\tAustria -- \"Czech Republic\"\n",
      "\tAustria -- Germany\n",
      "\tAustria -- Hungary\n",
      "\tAustria -- Italy\n",
      "\tAustria -- Liechtenstein\n",
      "\tAustria -- Slovakia\n",
      "\tAustria -- Slovenia\n",
      "\tAustria -- Switzerland\n",
      "\tBelarus -- Latvia\n",
      "\tBelarus -- Lithuania\n",
      "\tBelarus -- Poland\n",
      "\tBelarus -- Russia\n",
      "\tBelarus -- Ukraine\n",
      "\tBelgium -- France\n",
      "\tBelgium -- Germany\n",
      "\tBelgium -- Luxembourg\n",
      "\tBelgium -- Netherlands\n",
      "\t\"Bosnia and Herzegovina\" -- Croatia\n",
      "\t\"Bosnia and Herzegovina\" -- Montenegro\n",
      "\t\"Bosnia and Herzegovina\" -- Serbia\n",
      "\tBulgaria -- Greece\n",
      "\tBulgaria -- \"North Macedonia\"\n",
      "\tBulgaria -- Romania\n",
      "\tBulgaria -- Serbia\n",
      "\tBulgaria -- Turkey\n",
      "\tCroatia -- \"Bosnia and Herzegovina\"\n",
      "\tCroatia -- Hungary\n",
      "\tCroatia -- Montenegro\n",
      "\tCroatia -- Serbia\n",
      "\tCroatia -- Slovenia\n",
      "\tCyprus -- \"United Kingdom\"\n",
      "\t\"Czech Republic\" -- Austria\n",
      "\t\"Czech Republic\" -- Germany\n",
      "\t\"Czech Republic\" -- Poland\n",
      "\t\"Czech Republic\" -- Slovakia\n",
      "\tDenmark -- Germany\n",
      "\tEstonia -- Latvia\n",
      "\tEstonia -- Russia\n",
      "\tFinland -- Norway\n",
      "\tFinland -- Sweden\n",
      "\tFinland -- Russia\n",
      "\tFrance -- Andorra\n",
      "\tFrance -- Belgium\n",
      "\tFrance -- Germany\n",
      "\tFrance -- Italy\n",
      "\tFrance -- Luxembourg\n",
      "\tFrance -- Monaco\n",
      "\tFrance -- Netherlands\n",
      "\tFrance -- Spain\n",
      "\tFrance -- Switzerland\n",
      "\tGermany -- Austria\n",
      "\tGermany -- Belgium\n",
      "\tGermany -- \"Czech Republic\"\n",
      "\tGermany -- Denmark\n",
      "\tGermany -- France\n",
      "\tGermany -- Luxembourg\n",
      "\tGermany -- Netherlands\n",
      "\tGermany -- Poland\n",
      "\tGermany -- Switzerland\n",
      "\tGreece -- Albania\n",
      "\tGreece -- Bulgaria\n",
      "\tGreece -- Turkey\n",
      "\tGreece -- \"North Macedonia\"\n",
      "\tHungary -- Austria\n",
      "\tHungary -- Croatia\n",
      "\tHungary -- Romania\n",
      "\tHungary -- Serbia\n",
      "\tHungary -- Slovakia\n",
      "\tHungary -- Slovenia\n",
      "\tHungary -- Ukraine\n",
      "\tIreland -- \"United Kingdom\"\n",
      "\tItaly -- Austria\n",
      "\tItaly -- France\n",
      "\tItaly -- \"San Marino\"\n",
      "\tItaly -- Slovenia\n",
      "\tItaly -- Switzerland\n",
      "\tItaly -- \"Vatican City\"\n",
      "\tKosovo -- Albania\n",
      "\tKosovo -- Montenegro\n",
      "\tKosovo -- \"North Macedonia\"\n",
      "\tKosovo -- Serbia\n",
      "\tLatvia -- Belarus\n",
      "\tLatvia -- Estonia\n",
      "\tLatvia -- Lithuania\n",
      "\tLatvia -- Russia\n",
      "\tLiechtenstein -- Austria\n",
      "\tLiechtenstein -- Switzerland\n",
      "\tLithuania -- Belarus\n",
      "\tLithuania -- Latvia\n",
      "\tLithuania -- Poland\n",
      "\tLithuania -- Russia\n",
      "\tLuxembourg -- Belgium\n",
      "\tLuxembourg -- France\n",
      "\tLuxembourg -- Germany\n",
      "\tMoldova -- Romania\n",
      "\tMoldova -- Ukraine\n",
      "\tMonaco -- France\n",
      "\tMontenegro -- Albania\n",
      "\tMontenegro -- \"Bosnia and Herzegovina\"\n",
      "\tMontenegro -- Croatia\n",
      "\tMontenegro -- Kosovo\n",
      "\tMontenegro -- Serbia\n",
      "\tNetherlands -- Belgium\n",
      "\tNetherlands -- Germany\n",
      "\tNetherlands -- France\n",
      "\t\"North Macedonia\" -- Albania\n",
      "\t\"North Macedonia\" -- Bulgaria\n",
      "\t\"North Macedonia\" -- Greece\n",
      "\t\"North Macedonia\" -- Kosovo\n",
      "\t\"North Macedonia\" -- Serbia\n",
      "\tNorway -- Finland\n",
      "\tNorway -- Sweden\n",
      "\tNorway -- Russia\n",
      "\tPoland -- Belarus\n",
      "\tPoland -- \"Czech Republic\"\n",
      "\tPoland -- Germany\n",
      "\tPoland -- Lithuania\n",
      "\tPoland -- Russia\n",
      "\tPoland -- Slovakia\n",
      "\tPoland -- Ukraine\n",
      "\tPortugal -- Spain\n",
      "\tRomania -- Bulgaria\n",
      "\tRomania -- Hungary\n",
      "\tRomania -- Moldova\n",
      "\tRomania -- Serbia\n",
      "\tRomania -- Ukraine\n",
      "\tRussia -- Belarus\n",
      "\tRussia -- Estonia\n",
      "\tRussia -- Finland\n",
      "\tRussia -- Latvia\n",
      "\tRussia -- Lithuania\n",
      "\tRussia -- Norway\n",
      "\tRussia -- Poland\n",
      "\tRussia -- Ukraine\n",
      "\t\"San Marino\" -- Italy\n",
      "\tSerbia -- \"Bosnia and Herzegovina\"\n",
      "\tSerbia -- Bulgaria\n",
      "\tSerbia -- Croatia\n",
      "\tSerbia -- Hungary\n",
      "\tSerbia -- Kosovo\n",
      "\tSerbia -- Montenegro\n",
      "\tSerbia -- \"North Macedonia\"\n",
      "\tSerbia -- Romania\n",
      "\tSlovakia -- Austria\n",
      "\tSlovakia -- \"Czech Republic\"\n",
      "\tSlovakia -- Hungary\n",
      "\tSlovakia -- Poland\n",
      "\tSlovakia -- Ukraine\n",
      "\tSlovenia -- Austria\n",
      "\tSlovenia -- Croatia\n",
      "\tSlovenia -- Italy\n",
      "\tSlovenia -- Hungary\n",
      "\tSpain -- Andorra\n",
      "\tSpain -- France\n",
      "\tSpain -- Portugal\n",
      "\tSweden -- Finland\n",
      "\tSweden -- Norway\n",
      "\tSwitzerland -- Austria\n",
      "\tSwitzerland -- France\n",
      "\tSwitzerland -- Italy\n",
      "\tSwitzerland -- Liechtenstein\n",
      "\tSwitzerland -- Germany\n",
      "\tTurkey -- Bulgaria\n",
      "\tTurkey -- Greece\n",
      "\tUkraine -- Belarus\n",
      "\tUkraine -- Hungary\n",
      "\tUkraine -- Moldova\n",
      "\tUkraine -- Poland\n",
      "\tUkraine -- Romania\n",
      "\tUkraine -- Russia\n",
      "\tUkraine -- Slovakia\n",
      "\t\"United Kingdom\" -- Cyprus\n",
      "\t\"United Kingdom\" -- Ireland\n",
      "\t\"United Kingdom\" -- Spain\n",
      "\t\"Vatican City\" -- Italy\n",
      "}\n"
     ]
    }
   ],
   "source": [
    "print(G)"
   ]
  },
  {
   "cell_type": "code",
   "execution_count": 124,
   "id": "cc317822",
   "metadata": {
    "tags": []
   },
   "outputs": [
    {
     "data": {
      "text/plain": [
       "'output\\\\G.gv.pdf'"
      ]
     },
     "execution_count": 124,
     "metadata": {},
     "output_type": "execute_result"
    }
   ],
   "source": [
    "G.render('output/G.gv', view=True)"
   ]
  },
  {
   "cell_type": "code",
   "execution_count": null,
   "id": "43f02d28",
   "metadata": {},
   "outputs": [],
   "source": [
    "pip uninstall graphviz"
   ]
  },
  {
   "cell_type": "code",
   "execution_count": 139,
   "id": "fc1867a4",
   "metadata": {},
   "outputs": [],
   "source": [
    "g = igraph.Graph()\n",
    "for i in countries:\n",
    "    g.add_vertex(i)\n",
    "for country, neighbors in borders.items():\n",
    "    for neighbor in neighbors:\n",
    "        g.add_edge(country, neighbor)"
   ]
  },
  {
   "cell_type": "code",
   "execution_count": 128,
   "id": "d42b6d2e",
   "metadata": {},
   "outputs": [
    {
     "name": "stdout",
     "output_type": "stream",
     "text": [
      "<Layout with 47 vertices and 2 dimensions>\n"
     ]
    }
   ],
   "source": [
    "# for i in g.es:\n",
    "#     print(i)\n",
    "# print(g.vs[0][\"name\"])\n",
    "print()"
   ]
  },
  {
   "cell_type": "code",
   "execution_count": 114,
   "id": "9c2b4e98",
   "metadata": {
    "collapsed": true,
    "jupyter": {
     "outputs_hidden": true
    },
    "tags": []
   },
   "outputs": [
    {
     "name": "stdout",
     "output_type": "stream",
     "text": [
      "IGRAPH UN-- 47 181 --\n",
      "+ attr: name (v)\n",
      "+ edges (vertex names):\n",
      "               Albania -- Greece, Greece, Kosovo, Kosovo, North Macedonia,\n",
      "North Macedonia, Montenegro, Montenegro\n",
      "               Andorra -- France, France, Spain, Spain\n",
      "               Austria -- Czech Republic, Czech Republic, Germany, Germany,\n",
      "Hungary, Hungary, Italy, Italy, Liechtenstein, Liechtenstein, Slovakia,\n",
      "Slovakia, Slovenia, Slovenia, Switzerland, Switzerland\n",
      "               Belarus -- Latvia, Latvia, Lithuania, Lithuania, Poland,\n",
      "Poland, Russia, Russia, Ukraine, Ukraine\n",
      "               Belgium -- France, France, Germany, Germany, Luxembourg,\n",
      "Luxembourg, Netherlands, Netherlands\n",
      "Bosnia and Herzegovina -- Croatia, Croatia, Montenegro, Montenegro, Serbia,\n",
      "Serbia\n",
      "              Bulgaria -- Greece, Greece, North Macedonia, North Macedonia,\n",
      "Romania, Romania, Serbia, Serbia, Turkey, Turkey\n",
      "               Croatia -- Bosnia and Herzegovina, Bosnia and Herzegovina,\n",
      "Hungary, Hungary, Montenegro, Montenegro, Serbia, Serbia, Slovenia, Slovenia\n",
      "                Cyprus -- United Kingdom, United Kingdom\n",
      "        Czech Republic -- Austria, Austria, Germany, Germany, Poland, Poland,\n",
      "Slovakia, Slovakia\n",
      "               Denmark -- Germany, Germany\n",
      "               Estonia -- Latvia, Latvia, Russia, Russia\n",
      "               Finland -- Norway, Norway, Russia, Russia, Sweden, Sweden\n",
      "                France -- Andorra, Andorra, Belgium, Belgium, Germany,\n",
      "Germany, Italy, Italy, Luxembourg, Luxembourg, Monaco, Monaco, Netherlands,\n",
      "Netherlands, Spain, Spain, Switzerland, Switzerland\n",
      "               Germany -- Austria, Austria, Belgium, Belgium, Czech Republic,\n",
      "Czech Republic, Denmark, Denmark, France, France, Luxembourg, Luxembourg,\n",
      "Netherlands, Netherlands, Poland, Poland, Switzerland, Switzerland\n",
      "                Greece -- Albania, Albania, Bulgaria, Bulgaria, North\n",
      "Macedonia, North Macedonia, Turkey, Turkey\n",
      "               Hungary -- Austria, Austria, Croatia, Croatia, Romania,\n",
      "Romania, Serbia, Serbia, Slovakia, Slovakia, Slovenia, Slovenia, Ukraine,\n",
      "Ukraine\n",
      "               Iceland --\n",
      "               Ireland -- United Kingdom, United Kingdom\n",
      "                 Italy -- Austria, Austria, France, France, San Marino, San\n",
      "Marino, Slovenia, Slovenia, Switzerland, Switzerland, Vatican City, Vatican\n",
      "City\n",
      "                Kosovo -- Albania, Albania, North Macedonia, North Macedonia,\n",
      "Montenegro, Montenegro, Serbia, Serbia\n",
      "                Latvia -- Belarus, Belarus, Estonia, Estonia, Lithuania,\n",
      "Lithuania, Russia, Russia\n",
      "         Liechtenstein -- Austria, Austria, Switzerland, Switzerland\n",
      "             Lithuania -- Belarus, Belarus, Latvia, Latvia, Poland, Poland,\n",
      "Russia, Russia\n",
      "            Luxembourg -- Belgium, Belgium, France, France, Germany, Germany\n",
      "       North Macedonia -- Albania, Albania, Bulgaria, Bulgaria, Greece,\n",
      "Greece, Kosovo, Kosovo, Serbia, Serbia\n",
      "                 Malta --\n",
      "               Moldova -- Romania, Romania, Ukraine, Ukraine\n",
      "                Monaco -- France, France\n",
      "            Montenegro -- Albania, Albania, Bosnia and Herzegovina, Bosnia and\n",
      "Herzegovina, Croatia, Croatia, Kosovo, Kosovo, Serbia, Serbia\n",
      "           Netherlands -- Belgium, Belgium, France, France, Germany, Germany\n",
      "                Norway -- Finland, Finland, Russia, Russia, Sweden, Sweden\n",
      "                Poland -- Belarus, Belarus, Czech Republic, Czech Republic,\n",
      "Germany, Germany, Lithuania, Lithuania, Russia, Russia, Slovakia, Slovakia,\n",
      "Ukraine, Ukraine\n",
      "              Portugal -- Spain, Spain\n",
      "               Romania -- Bulgaria, Bulgaria, Hungary, Hungary, Moldova,\n",
      "Moldova, Serbia, Serbia, Ukraine, Ukraine\n",
      "                Russia -- Belarus, Belarus, Estonia, Estonia, Finland,\n",
      "Finland, Latvia, Latvia, Lithuania, Lithuania, Norway, Norway, Poland, Poland,\n",
      "Ukraine, Ukraine\n",
      "            San Marino -- Italy, Italy\n",
      "                Serbia -- Bosnia and Herzegovina, Bosnia and Herzegovina,\n",
      "Bulgaria, Bulgaria, Croatia, Croatia, Hungary, Hungary, Kosovo, Kosovo, North\n",
      "Macedonia, North Macedonia, Montenegro, Montenegro, Romania, Romania\n",
      "              Slovakia -- Austria, Austria, Czech Republic, Czech Republic,\n",
      "Hungary, Hungary, Poland, Poland, Ukraine, Ukraine\n",
      "              Slovenia -- Austria, Austria, Croatia, Croatia, Hungary,\n",
      "Hungary, Italy, Italy\n",
      "                 Spain -- Andorra, Andorra, France, France, Portugal,\n",
      "Portugal, United Kingdom\n",
      "                Sweden -- Finland, Finland, Norway, Norway\n",
      "           Switzerland -- Austria, Austria, France, France, Germany, Germany,\n",
      "Italy, Italy, Liechtenstein, Liechtenstein\n",
      "                Turkey -- Bulgaria, Bulgaria, Greece, Greece\n",
      "               Ukraine -- Belarus, Belarus, Hungary, Hungary, Moldova,\n",
      "Moldova, Poland, Poland, Romania, Romania, Russia, Russia, Slovakia, Slovakia\n",
      "        United Kingdom -- Cyprus, Cyprus, Ireland, Ireland, Spain\n",
      "          Vatican City -- Italy, Italy\n"
     ]
    }
   ],
   "source": [
    "print(g)"
   ]
  },
  {
   "cell_type": "code",
   "execution_count": 140,
   "id": "a55edcc0",
   "metadata": {},
   "outputs": [],
   "source": [
    "G = graphviz.Graph()\n",
    "for i in g.get_edgelist():\n",
    "    G.edge(g.vs[i[0]]['name'], g.vs[i[1]]['name'])"
   ]
  },
  {
   "cell_type": "code",
   "execution_count": 143,
   "id": "bda1dd7a",
   "metadata": {},
   "outputs": [
    {
     "ename": "AttributeError",
     "evalue": "module 'igraph' has no attribute 'clusters'",
     "output_type": "error",
     "traceback": [
      "\u001b[1;31m---------------------------------------------------------------------------\u001b[0m",
      "\u001b[1;31mAttributeError\u001b[0m                            Traceback (most recent call last)",
      "\u001b[1;32m<ipython-input-143-825c5b7fb1a5>\u001b[0m in \u001b[0;36m<module>\u001b[1;34m\u001b[0m\n\u001b[1;32m----> 1\u001b[1;33m \u001b[0migraph\u001b[0m\u001b[1;33m.\u001b[0m\u001b[0mclusters\u001b[0m\u001b[1;33m(\u001b[0m\u001b[1;33m)\u001b[0m\u001b[1;33m\u001b[0m\u001b[1;33m\u001b[0m\u001b[0m\n\u001b[0m",
      "\u001b[1;31mAttributeError\u001b[0m: module 'igraph' has no attribute 'clusters'"
     ]
    }
   ],
   "source": [
    "igraph.clusters()"
   ]
  },
  {
   "cell_type": "markdown",
   "id": "20a678d7",
   "metadata": {},
   "source": [
    "## Создание графа"
   ]
  },
  {
   "cell_type": "code",
   "execution_count": 13,
   "id": "2e114aac",
   "metadata": {},
   "outputs": [],
   "source": [
    "g = nx.Graph()\n",
    "for country, neighbors in borders.items():\n",
    "    g.add_node(country)\n",
    "    for neighbor in neighbors:\n",
    "        g.add_edge(country, neighbor)"
   ]
  },
  {
   "cell_type": "code",
   "execution_count": 14,
   "id": "0e49cfb3",
   "metadata": {},
   "outputs": [
    {
     "data": {
      "text/plain": [
       "[45, 1, 1]"
      ]
     },
     "execution_count": 14,
     "metadata": {},
     "output_type": "execute_result"
    }
   ],
   "source": [
    "[len(c) for c in sorted(nx.connected_components(g), key=len, reverse=True)]"
   ]
  },
  {
   "cell_type": "code",
   "execution_count": 12,
   "id": "c5f9abbc",
   "metadata": {},
   "outputs": [
    {
     "data": {
      "text/plain": [
       "[]"
      ]
     },
     "execution_count": 12,
     "metadata": {},
     "output_type": "execute_result"
    }
   ],
   "source": [
    "borders['Iceland']"
   ]
  },
  {
   "cell_type": "code",
   "execution_count": null,
   "id": "245da675",
   "metadata": {},
   "outputs": [],
   "source": []
  }
 ],
 "metadata": {
  "kernelspec": {
   "display_name": "Python 3",
   "language": "python",
   "name": "python3"
  },
  "language_info": {
   "codemirror_mode": {
    "name": "ipython",
    "version": 3
   },
   "file_extension": ".py",
   "mimetype": "text/x-python",
   "name": "python",
   "nbconvert_exporter": "python",
   "pygments_lexer": "ipython3",
   "version": "3.8.6"
  }
 },
 "nbformat": 4,
 "nbformat_minor": 5
}
