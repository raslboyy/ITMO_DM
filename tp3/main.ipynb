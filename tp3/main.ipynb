{
 "cells": [
  {
   "cell_type": "code",
   "execution_count": 1,
   "id": "84d6ea2e-6520-4c90-b640-85b0c7b5d3c2",
   "metadata": {},
   "outputs": [],
   "source": [
    "import networkx as nx\n",
    "from networkx.algorithms import approximation\n",
    "import matplotlib.pyplot as plt\n",
    "import numpy as np\n",
    "import pandas as pd"
   ]
  },
  {
   "cell_type": "code",
   "execution_count": 2,
   "id": "3b5cf9e6-4e20-4390-a4b9-b82db2cad5ec",
   "metadata": {
    "tags": []
   },
   "outputs": [],
   "source": [
    "G = nx.Graph()\n",
    "G.add_edge('a', 'b')\n",
    "G.add_edge('a', 'e')\n",
    "G.add_edge('a', 'h')\n",
    "G.add_edge('b', 'c')\n",
    "G.add_edge('b', 'g')\n",
    "G.add_edge('c', 'd')\n",
    "G.add_edge('c', 'f')\n",
    "G.add_edge('d', 'e')\n",
    "G.add_edge('d', 'h')\n",
    "G.add_edge('e', 'f')\n",
    "G.add_edge('f', 'g')\n",
    "G.add_edge('g', 'h')"
   ]
  },
  {
   "cell_type": "code",
   "execution_count": 19,
   "id": "88e2f6ae-3393-4525-9cb0-983607ad793b",
   "metadata": {},
   "outputs": [
    {
     "data": {
      "text/html": [
       "<div>\n",
       "<style scoped>\n",
       "    .dataframe tbody tr th:only-of-type {\n",
       "        vertical-align: middle;\n",
       "    }\n",
       "\n",
       "    .dataframe tbody tr th {\n",
       "        vertical-align: top;\n",
       "    }\n",
       "\n",
       "    .dataframe thead th {\n",
       "        text-align: right;\n",
       "    }\n",
       "</style>\n",
       "<table border=\"1\" class=\"dataframe\">\n",
       "  <thead>\n",
       "    <tr style=\"text-align: right;\">\n",
       "      <th></th>\n",
       "      <th>a</th>\n",
       "      <th>b</th>\n",
       "      <th>e</th>\n",
       "      <th>h</th>\n",
       "      <th>c</th>\n",
       "      <th>g</th>\n",
       "      <th>d</th>\n",
       "      <th>f</th>\n",
       "    </tr>\n",
       "  </thead>\n",
       "  <tbody>\n",
       "    <tr>\n",
       "      <th>a</th>\n",
       "      <td>0</td>\n",
       "      <td>1</td>\n",
       "      <td>1</td>\n",
       "      <td>1</td>\n",
       "      <td>2</td>\n",
       "      <td>2</td>\n",
       "      <td>2</td>\n",
       "      <td>2</td>\n",
       "    </tr>\n",
       "    <tr>\n",
       "      <th>b</th>\n",
       "      <td>1</td>\n",
       "      <td>0</td>\n",
       "      <td>2</td>\n",
       "      <td>2</td>\n",
       "      <td>1</td>\n",
       "      <td>1</td>\n",
       "      <td>2</td>\n",
       "      <td>2</td>\n",
       "    </tr>\n",
       "    <tr>\n",
       "      <th>e</th>\n",
       "      <td>1</td>\n",
       "      <td>2</td>\n",
       "      <td>0</td>\n",
       "      <td>2</td>\n",
       "      <td>2</td>\n",
       "      <td>2</td>\n",
       "      <td>1</td>\n",
       "      <td>1</td>\n",
       "    </tr>\n",
       "    <tr>\n",
       "      <th>h</th>\n",
       "      <td>1</td>\n",
       "      <td>2</td>\n",
       "      <td>2</td>\n",
       "      <td>0</td>\n",
       "      <td>2</td>\n",
       "      <td>1</td>\n",
       "      <td>1</td>\n",
       "      <td>2</td>\n",
       "    </tr>\n",
       "    <tr>\n",
       "      <th>c</th>\n",
       "      <td>2</td>\n",
       "      <td>1</td>\n",
       "      <td>2</td>\n",
       "      <td>2</td>\n",
       "      <td>0</td>\n",
       "      <td>2</td>\n",
       "      <td>1</td>\n",
       "      <td>1</td>\n",
       "    </tr>\n",
       "    <tr>\n",
       "      <th>g</th>\n",
       "      <td>2</td>\n",
       "      <td>1</td>\n",
       "      <td>2</td>\n",
       "      <td>1</td>\n",
       "      <td>2</td>\n",
       "      <td>0</td>\n",
       "      <td>2</td>\n",
       "      <td>1</td>\n",
       "    </tr>\n",
       "    <tr>\n",
       "      <th>d</th>\n",
       "      <td>2</td>\n",
       "      <td>2</td>\n",
       "      <td>1</td>\n",
       "      <td>1</td>\n",
       "      <td>1</td>\n",
       "      <td>2</td>\n",
       "      <td>0</td>\n",
       "      <td>2</td>\n",
       "    </tr>\n",
       "    <tr>\n",
       "      <th>f</th>\n",
       "      <td>2</td>\n",
       "      <td>2</td>\n",
       "      <td>1</td>\n",
       "      <td>2</td>\n",
       "      <td>1</td>\n",
       "      <td>1</td>\n",
       "      <td>2</td>\n",
       "      <td>0</td>\n",
       "    </tr>\n",
       "  </tbody>\n",
       "</table>\n",
       "</div>"
      ],
      "text/plain": [
       "   a  b  e  h  c  g  d  f\n",
       "a  0  1  1  1  2  2  2  2\n",
       "b  1  0  2  2  1  1  2  2\n",
       "e  1  2  0  2  2  2  1  1\n",
       "h  1  2  2  0  2  1  1  2\n",
       "c  2  1  2  2  0  2  1  1\n",
       "g  2  1  2  1  2  0  2  1\n",
       "d  2  2  1  1  1  2  0  2\n",
       "f  2  2  1  2  1  1  2  0"
      ]
     },
     "execution_count": 19,
     "metadata": {},
     "output_type": "execute_result"
    }
   ],
   "source": [
    "pd.DataFrame(nx.floyd_warshall_numpy(G), columns=G.nodes, index=G.nodes, dtype=int)"
   ]
  },
  {
   "cell_type": "code",
   "execution_count": 4,
   "id": "5eb82b83-e49a-497a-bd85-d5eb3846cf24",
   "metadata": {},
   "outputs": [
    {
     "data": {
      "text/plain": [
       "{'a': 2, 'b': 2, 'e': 2, 'h': 2, 'c': 2, 'g': 2, 'd': 2, 'f': 2}"
      ]
     },
     "execution_count": 4,
     "metadata": {},
     "output_type": "execute_result"
    }
   ],
   "source": [
    "nx.eccentricity(G)"
   ]
  },
  {
   "cell_type": "code",
   "execution_count": 22,
   "id": "9286cd2e-41b0-4cc8-ba90-e7fd445299e7",
   "metadata": {},
   "outputs": [
    {
     "data": {
      "image/png": "[encoded data removed]",
      "text/plain": [
       "<Figure size 432x288 with 1 Axes>"
      ]
     },
     "metadata": {},
     "output_type": "display_data"
    }
   ],
   "source": [
    "nx.draw(nx.complement(G), nx.planar_layout(nx.complement(G)), with_labels=True, node_size=500, font_size = 10, font_color='black', width=2)\n",
    "plt.savefig('b.png')"
   ]
  },
  {
   "cell_type": "code",
   "execution_count": 20,
   "id": "9aee26ac-e4ee-41f0-82f5-815c95145e41",
   "metadata": {},
   "outputs": [
    {
     "data": {
      "text/html": [
       "<div>\n",
       "<style scoped>\n",
       "    .dataframe tbody tr th:only-of-type {\n",
       "        vertical-align: middle;\n",
       "    }\n",
       "\n",
       "    .dataframe tbody tr th {\n",
       "        vertical-align: top;\n",
       "    }\n",
       "\n",
       "    .dataframe thead th {\n",
       "        text-align: right;\n",
       "    }\n",
       "</style>\n",
       "<table border=\"1\" class=\"dataframe\">\n",
       "  <thead>\n",
       "    <tr style=\"text-align: right;\">\n",
       "      <th></th>\n",
       "      <th>a</th>\n",
       "      <th>b</th>\n",
       "      <th>e</th>\n",
       "      <th>h</th>\n",
       "      <th>c</th>\n",
       "      <th>g</th>\n",
       "      <th>d</th>\n",
       "      <th>f</th>\n",
       "    </tr>\n",
       "  </thead>\n",
       "  <tbody>\n",
       "    <tr>\n",
       "      <th>a</th>\n",
       "      <td>0</td>\n",
       "      <td>2</td>\n",
       "      <td>2</td>\n",
       "      <td>2</td>\n",
       "      <td>1</td>\n",
       "      <td>1</td>\n",
       "      <td>1</td>\n",
       "      <td>1</td>\n",
       "    </tr>\n",
       "    <tr>\n",
       "      <th>b</th>\n",
       "      <td>2</td>\n",
       "      <td>0</td>\n",
       "      <td>1</td>\n",
       "      <td>1</td>\n",
       "      <td>2</td>\n",
       "      <td>2</td>\n",
       "      <td>1</td>\n",
       "      <td>1</td>\n",
       "    </tr>\n",
       "    <tr>\n",
       "      <th>e</th>\n",
       "      <td>2</td>\n",
       "      <td>1</td>\n",
       "      <td>0</td>\n",
       "      <td>1</td>\n",
       "      <td>1</td>\n",
       "      <td>1</td>\n",
       "      <td>2</td>\n",
       "      <td>2</td>\n",
       "    </tr>\n",
       "    <tr>\n",
       "      <th>h</th>\n",
       "      <td>2</td>\n",
       "      <td>1</td>\n",
       "      <td>1</td>\n",
       "      <td>0</td>\n",
       "      <td>1</td>\n",
       "      <td>2</td>\n",
       "      <td>2</td>\n",
       "      <td>1</td>\n",
       "    </tr>\n",
       "    <tr>\n",
       "      <th>c</th>\n",
       "      <td>1</td>\n",
       "      <td>2</td>\n",
       "      <td>1</td>\n",
       "      <td>1</td>\n",
       "      <td>0</td>\n",
       "      <td>1</td>\n",
       "      <td>2</td>\n",
       "      <td>2</td>\n",
       "    </tr>\n",
       "    <tr>\n",
       "      <th>g</th>\n",
       "      <td>1</td>\n",
       "      <td>2</td>\n",
       "      <td>1</td>\n",
       "      <td>2</td>\n",
       "      <td>1</td>\n",
       "      <td>0</td>\n",
       "      <td>1</td>\n",
       "      <td>2</td>\n",
       "    </tr>\n",
       "    <tr>\n",
       "      <th>d</th>\n",
       "      <td>1</td>\n",
       "      <td>1</td>\n",
       "      <td>2</td>\n",
       "      <td>2</td>\n",
       "      <td>2</td>\n",
       "      <td>1</td>\n",
       "      <td>0</td>\n",
       "      <td>1</td>\n",
       "    </tr>\n",
       "    <tr>\n",
       "      <th>f</th>\n",
       "      <td>1</td>\n",
       "      <td>1</td>\n",
       "      <td>2</td>\n",
       "      <td>1</td>\n",
       "      <td>2</td>\n",
       "      <td>2</td>\n",
       "      <td>1</td>\n",
       "      <td>0</td>\n",
       "    </tr>\n",
       "  </tbody>\n",
       "</table>\n",
       "</div>"
      ],
      "text/plain": [
       "   a  b  e  h  c  g  d  f\n",
       "a  0  2  2  2  1  1  1  1\n",
       "b  2  0  1  1  2  2  1  1\n",
       "e  2  1  0  1  1  1  2  2\n",
       "h  2  1  1  0  1  2  2  1\n",
       "c  1  2  1  1  0  1  2  2\n",
       "g  1  2  1  2  1  0  1  2\n",
       "d  1  1  2  2  2  1  0  1\n",
       "f  1  1  2  1  2  2  1  0"
      ]
     },
     "execution_count": 20,
     "metadata": {},
     "output_type": "execute_result"
    }
   ],
   "source": [
    "pd.DataFrame(nx.floyd_warshall_numpy(nx.complement(G)), columns=nx.complement(G).nodes, index=nx.complement(G).nodes, dtype=int)"
   ]
  },
  {
   "cell_type": "code",
   "execution_count": 7,
   "id": "2b9dc491-cd2b-49f1-bbfa-d021ce020056",
   "metadata": {},
   "outputs": [],
   "source": [
    "N = nx.Graph()\n",
    "N.add_edge('a', 'b')\n",
    "N.add_edge('a', 'c')\n",
    "N.add_edge('a', 'f')\n",
    "N.add_edge('b', 'f')\n",
    "N.add_edge('b', 'c')\n",
    "N.add_edge('b', 'e')\n",
    "N.add_edge('c', 'f')\n",
    "N.add_edge('c', 'e')\n",
    "N.add_edge('c', 'd')\n",
    "N.add_edge('d', 'e')\n",
    "N.add_edge('e', 'f')"
   ]
  },
  {
   "cell_type": "code",
   "execution_count": 8,
   "id": "952b9286-bae7-4164-90ac-f79e13ad203d",
   "metadata": {},
   "outputs": [
    {
     "name": "stdout",
     "output_type": "stream",
     "text": [
      "{'a', 'c', 'e', 'b', 'f', 'd'}\n"
     ]
    }
   ],
   "source": [
    "for i in nx.algorithms.connectivity.edge_kcomponents.bridge_components(N):\n",
    "    print(i)"
   ]
  },
  {
   "cell_type": "code",
   "execution_count": 9,
   "id": "1a401d79-32fd-4dc3-ae44-da748a811fe3",
   "metadata": {},
   "outputs": [
    {
     "name": "stdout",
     "output_type": "stream",
     "text": [
      "[('a', 'b'), ('b', 'f'), ('f', 'a'), ('f', 'c'), ('c', 'a'), ('c', 'b'), ('c', 'e'), ('e', 'b'), ('e', 'd'), ('d', 'c'), ('e', 'f')]\n"
     ]
    }
   ],
   "source": [
    "for block in nx.algorithms.components.biconnected_component_edges(N):\n",
    "    print(block)"
   ]
  },
  {
   "cell_type": "code",
   "execution_count": 21,
   "id": "78ba739a-5244-41af-9718-5c5c7d4ac255",
   "metadata": {},
   "outputs": [
    {
     "data": {
      "image/png": "[encoded data removed]",
      "text/plain": [
       "<Figure size 432x288 with 1 Axes>"
      ]
     },
     "metadata": {},
     "output_type": "display_data"
    }
   ],
   "source": [
    "nx.draw(nx.complement(N), nx.planar_layout(nx.complement(N)), with_labels=True, node_size=500, font_size = 10, font_color='black', width=2)\n",
    "plt.savefig('a.png')"
   ]
  },
  {
   "cell_type": "code",
   "execution_count": 12,
   "id": "9a8d5a1d-2bde-4603-8c9f-9af797f0393f",
   "metadata": {},
   "outputs": [
    {
     "name": "stdout",
     "output_type": "stream",
     "text": [
      "{'a'}\n",
      "{'b'}\n",
      "{'c'}\n",
      "{'f'}\n",
      "{'e'}\n",
      "{'d'}\n"
     ]
    }
   ],
   "source": [
    "for i in nx.algorithms.connectivity.edge_kcomponents.bridge_components(nx.complement(N)):\n",
    "    print(i)"
   ]
  },
  {
   "cell_type": "code",
   "execution_count": 13,
   "id": "77280a9b-5092-44a2-983c-dac7f9289609",
   "metadata": {},
   "outputs": [
    {
     "name": "stdout",
     "output_type": "stream",
     "text": [
      "[('a', 'e')]\n",
      "[('d', 'b')]\n",
      "[('d', 'f')]\n",
      "[('a', 'd')]\n"
     ]
    }
   ],
   "source": [
    "for block in nx.algorithms.components.biconnected_component_edges(nx.complement(N)):\n",
    "    print(block)"
   ]
  },
  {
   "cell_type": "code",
   "execution_count": 15,
   "id": "e3682024-4b0f-41da-b057-74a912e551b7",
   "metadata": {},
   "outputs": [
    {
     "name": "stdout",
     "output_type": "stream",
     "text": [
      "d\n",
      "a\n"
     ]
    }
   ],
   "source": [
    "for point in nx.algorithms.components.articulation_points(nx.complement(N)):\n",
    "    print(point)"
   ]
  },
  {
   "cell_type": "code",
   "execution_count": 17,
   "id": "681a90d4-7189-4be6-89cd-399725003298",
   "metadata": {},
   "outputs": [
    {
     "name": "stdout",
     "output_type": "stream",
     "text": [
      "('a', 'e')\n",
      "('a', 'd')\n",
      "('b', 'd')\n",
      "('f', 'd')\n"
     ]
    }
   ],
   "source": [
    "for bridge in nx.bridges(nx.complement(N)):\n",
    "    print(bridge)"
   ]
  },
  {
   "cell_type": "code",
   "execution_count": null,
   "id": "f0f69dbf-1454-4977-a9da-3d873da645d1",
   "metadata": {},
   "outputs": [],
   "source": []
  }
 ],
 "metadata": {
  "kernelspec": {
   "display_name": "Python 3",
   "language": "python",
   "name": "python3"
  },
  "language_info": {
   "codemirror_mode": {
    "name": "ipython",
    "version": 3
   },
   "file_extension": ".py",
   "mimetype": "text/x-python",
   "name": "python",
   "nbconvert_exporter": "python",
   "pygments_lexer": "ipython3",
   "version": "3.8.5"
  }
 },
 "nbformat": 4,
 "nbformat_minor": 5
}
